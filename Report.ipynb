{
 "cells": [
  {
   "cell_type": "markdown",
   "metadata": {},
   "source": [
    "## Predicting Customer Churn in a Telecommunications Company "
   ]
  },
  {
   "cell_type": "markdown",
   "metadata": {},
   "source": [
    "<img src=\"images/intro.png\" alt=\"Sample Image\" width=\"1000\"/>\n",
    "\n"
   ]
  },
  {
   "cell_type": "markdown",
   "metadata": {},
   "source": [
    "## Inroduction\n",
    "\n",
    "## Problem we need to solve \n",
    "\n",
    "### Let's  understand  the term churn \n",
    "In the highly competitive telecommunication industry, customer churn prediction has emerged as a critical strategy for maintaining a loyal customer base and ensuring long-term profitability. Customer churn refers to the phenomenon where subscribers discontinue their services with a telecom provider, either by switching to a competitor or ceasing to use the service altogether. Given the significant costs associated with acquiring new customers compared to retaining existing ones, accurately predicting and mitigating customer churn is essential for telecom companies.\n",
    "\n",
    "\n",
    "\n",
    "### Understant the type of churn happend in telecommunication industry\n",
    "- **traiff plan churn** - customer down grader there subscription Model \n",
    "- **services churn** - customer leave after the weekly/ monthly plan is completed \n",
    "- **Product Churn** -  customer chnage there mode to post paid to perpaid\n",
    "- **Usage Churn** - Coustomer Inacive there telecommunication services\n",
    "\n",
    "\n",
    "\n"
   ]
  },
  {
   "cell_type": "markdown",
   "metadata": {},
   "source": [
    "## What is Cause behind the churn with respect to the customer's point of view "
   ]
  },
  {
   "cell_type": "markdown",
   "metadata": {},
   "source": [
    "<img src=\"images/CauseOfchurn.png\" alt=\"Sample Image\" hight= \"1000\" width=\"1000\"/>\n"
   ]
  },
  {
   "cell_type": "markdown",
   "metadata": {},
   "source": [
    "### We can categorise the category into two parts where Customers have not thought about the churn and customers have thought with a different scenario With the help of this, we are able to predict the  Model More Accurately"
   ]
  },
  {
   "cell_type": "markdown",
   "metadata": {},
   "source": [
    "### Objective: \n",
    "- The primary objective of this project is to develop a predictive model that can identify \n",
    "  customers at risk of churning, enabling the company to take proactive measures to retain them.\n"
   ]
  },
  {
   "cell_type": "markdown",
   "metadata": {},
   "source": [
    "### Solution \n",
    "\n",
    "1. **devloping the cousomer 360**\n",
    "A \"Customer 360\" view is a comprehensive aggregation of all relevant customer data from various touchpoints into a single, unified profile.\n",
    "2. **behavioral segmentation of base**\n",
    "the process of sorting and grouping customers based on the behaviors they exhibit.\n",
    "3. **Build the Churn Model**\n",
    "Predict the Model using differn ML Algorithm\n",
    "4. **generate target list of all the campaigns**\n",
    "Using machine learning, generate a target list by identifying customers most likely to respond positively to specific marketing campaigns based on comprehensive data analysis.\n",
    "\n",
    "\n",
    "<img src=\"images/Solution.png\" alt=\"Sample Image\" hight= \"1000\" width=\"1000\"/>\n",
    "\n",
    "\n"
   ]
  },
  {
   "cell_type": "markdown",
   "metadata": {},
   "source": [
    "## UnderStanding The data "
   ]
  },
  {
   "cell_type": "markdown",
   "metadata": {},
   "source": []
  }
 ],
 "metadata": {
  "language_info": {
   "name": "python"
  }
 },
 "nbformat": 4,
 "nbformat_minor": 2
}
